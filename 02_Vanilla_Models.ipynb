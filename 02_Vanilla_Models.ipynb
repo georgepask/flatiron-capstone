{
 "cells": [
  {
   "cell_type": "code",
   "execution_count": 33,
   "metadata": {},
   "outputs": [],
   "source": [
    "#Import libraries for data cleaning and analysis  \n",
    "\n",
    "import pandas as pd\n",
    "import numpy as np\n",
    "\n",
    "import seaborn as sns\n",
    "import matplotlib.pyplot as plt\n",
    "%matplotlib inline\n",
    "\n",
    "from nltk.corpus import stopwords\n",
    "\n",
    "from sklearn import preprocessing\n",
    "from sklearn.feature_extraction.text import CountVectorizer\n",
    "from sklearn.feature_extraction.text import TfidfVectorizer\n",
    "from sklearn.model_selection import train_test_split, cross_val_score, GridSearchCV\n",
    "from sklearn.pipeline import Pipeline\n",
    "from sklearn.metrics import accuracy_score, confusion_matrix, classification_report, plot_confusion_matrix\n",
    "\n",
    "#Models\n",
    "from sklearn.svm import SVC, LinearSVC\n",
    "from sklearn.naive_bayes import MultinomialNB\n",
    "from sklearn.linear_model import SGDClassifier\n",
    "from sklearn.ensemble import RandomForestClassifier\n",
    "\n",
    "\n",
    "import string\n",
    "\n",
    "import warnings\n",
    "warnings.filterwarnings(\"ignore\")\n",
    "\n",
    "seed=293"
   ]
  },
  {
   "cell_type": "code",
   "execution_count": 2,
   "metadata": {},
   "outputs": [],
   "source": [
    "#Import pre-processed DataFrame\n",
    "df = pd.read_csv('final.csv')"
   ]
  },
  {
   "cell_type": "code",
   "execution_count": 4,
   "metadata": {},
   "outputs": [],
   "source": [
    "def evaluate_model(model, X_test, y_test, X_train):\n",
    "    \"\"\"\n",
    "    \"\"\"\n",
    "\n",
    "    # Get predictions\n",
    "    y_hat_train = model.predict(X_train)\n",
    "    y_hat_test = model.predict(X_test)\n",
    "   \n",
    "    # Print classification report\n",
    "    report = classification_report(y_test, y_hat_test)\n",
    "    print(\"Classification Report: \\n\")\n",
    "    print(classification_report(y_test, y_hat_test))\n",
    "    \n",
    "    print('\\n---------------\\n')\n",
    "    print('Training Accuracy:', accuracy_score(y_train, y_hat_train))\n",
    "    print('Testing Accuracy:', accuracy_score(y_test, y_hat_test))\n",
    "    print('\\n---------------\\n')\n",
    "    \n",
    "\n",
    "    # Build and display confusion matrix\n",
    "    cmatrix = plot_confusion_matrix(model, X_test, y_test, cmap=plt.cm.BuPu)\n",
    "    plt.show()\n",
    "\n",
    "    # Print ratio for predicted values\n",
    "    correct = np.sum(y_hat_test == y_test)\n",
    "    incorrect = np.sum(y_hat_test != y_test)\n",
    "    print(f\"Correctly classified videos from test set: {correct}, {round((correct/len(y_test)*100), 2)}%\") \n",
    "    print(f\"Incorrectly classified videos from test set: {incorrect}, {round((incorrect/len(y_test)*100), 2)}%\")\n",
    "\n",
    "  \n",
    "    \n",
    "def compare_models(X_tr, X_tst, y_tr, y_tst, models, names):\n",
    "       \n",
    "        \"\"\"\n",
    "        Inputs: \n",
    "        X_tr = your training data as pd.DataFrame\n",
    "        X_tst = your testing data as pd.DataFrame\n",
    "        y_tr = your training target as pd.Series\n",
    "        y_tst = your testing target as pd.Series\n",
    "        models = a list of model objects you want to compare\n",
    "        names = a list of strings containing the names of your modelds \n",
    "\n",
    "\n",
    "        Retruns: a comparison table inclduing Accuracy on Train and Test sets for each.\n",
    "       \n",
    "        ------------------------\n",
    "        \"\"\" \n",
    "    \n",
    "    \n",
    "        X_train, X_test, y_train, y_test = X_tr, X_tst, y_tr, y_tst\n",
    "       \n",
    "        accuracy_train_results = []\n",
    "        accuracy_results = []\n",
    "    \n",
    "        \n",
    "        for i in range(len(models)):\n",
    "            clf = models[i].fit(X_train, y_train)\n",
    "\n",
    "            print(\"Currently evaluating the {} model \\n\".format(names[i]))\n",
    "            \n",
    "            accuracy = accuracy_score(y_test, clf.predict(X_test))\n",
    "            accuracy_results.append(accuracy)\n",
    "            \n",
    "            accuracy2 = accuracy_score(y_train, clf.predict(X_train))\n",
    "            accuracy_train_results.append(accuracy2)\n",
    "         \n",
    "            \n",
    "        col1 = pd.DataFrame(names)\n",
    "        col2 = pd.DataFrame(accuracy_train_results)\n",
    "        col3 = pd.DataFrame(accuracy_results)\n",
    "\n",
    "        results = pd.concat([col1, col2, col3], axis='columns')\n",
    "        results.columns = ['Model', \"Accuracy (Train)\", \"Accuracy (Test)\"]\n",
    "        \n",
    "        return results\n",
    "    "
   ]
  },
  {
   "cell_type": "code",
   "execution_count": 5,
   "metadata": {},
   "outputs": [
    {
     "data": {
      "text/plain": [
       "((7973,), (1408,))"
      ]
     },
     "execution_count": 5,
     "metadata": {},
     "output_type": "execute_result"
    }
   ],
   "source": [
    "# Split data into training and test sets\n",
    "X = df['lemma_str']\n",
    "y = df['ctr_range']\n",
    "\n",
    "X_train, X_test, y_train, y_test = train_test_split(X, y, test_size=0.15, random_state=seed)\n",
    "\n",
    "X_train.shape, X_test.shape"
   ]
  },
  {
   "cell_type": "code",
   "execution_count": 6,
   "metadata": {},
   "outputs": [
    {
     "data": {
      "text/plain": [
       "Low CTR     56.641164\n",
       "High CTR    30.114135\n",
       "Avg CTR     13.244701\n",
       "Name: ctr_range, dtype: float64"
      ]
     },
     "execution_count": 6,
     "metadata": {},
     "output_type": "execute_result"
    }
   ],
   "source": [
    "#Checking class balance in training set \n",
    "y_train.value_counts(1) * 100"
   ]
  },
  {
   "cell_type": "code",
   "execution_count": 7,
   "metadata": {},
   "outputs": [
    {
     "data": {
      "text/plain": [
       "Low CTR     824\n",
       "High CTR    418\n",
       "Avg CTR     166\n",
       "Name: ctr_range, dtype: int64"
      ]
     },
     "execution_count": 7,
     "metadata": {},
     "output_type": "execute_result"
    }
   ],
   "source": [
    "#Check class balance for test set\n",
    "y_test.value_counts()"
   ]
  },
  {
   "cell_type": "markdown",
   "metadata": {},
   "source": [
    "The strategy forward is pretty simple. Fit five vanilla models, each with both the Count Vectorizer and with TF-IDF. I'm not sure which vectorizer will yield better results, so trying both makes the most sense. \n",
    "\n",
    "The five models are:\n",
    "\n",
    "- an SVM model, implemnted as an SVC classifier (supposedly better suited for smaller datasets)\n",
    "- an SVM using a linear SVC \n",
    "- another linear SVM using SGD \n",
    "- Naive Bayes, implemented as MultinomialNB\n",
    "- a Random Forrest "
   ]
  },
  {
   "cell_type": "markdown",
   "metadata": {},
   "source": [
    "### SVM Models\n",
    "\n",
    "I am starting with three variations of a support-vector machine. Each model is fitted after a vectorizer in a pipeline. Then, I explore the classification report and the confusion matrix, looking for the models with the highest accuracy scores on the test set."
   ]
  },
  {
   "cell_type": "code",
   "execution_count": 8,
   "metadata": {},
   "outputs": [
    {
     "data": {
      "text/plain": [
       "Pipeline(steps=[('vectorizer', CountVectorizer(decode_error='ignore')),\n",
       "                ('clf', SVC())])"
      ]
     },
     "execution_count": 8,
     "metadata": {},
     "output_type": "execute_result"
    }
   ],
   "source": [
    "svm_pipeline = Pipeline(steps=[(\"vectorizer\", CountVectorizer(decode_error= 'ignore')),\n",
    "                               (\"clf\", SVC())\n",
    "                              ])\n",
    "\n",
    "svm_pipeline.fit(X_train, y_train)"
   ]
  },
  {
   "cell_type": "code",
   "execution_count": 9,
   "metadata": {},
   "outputs": [
    {
     "name": "stdout",
     "output_type": "stream",
     "text": [
      "Classification Report: \n",
      "\n",
      "              precision    recall  f1-score   support\n",
      "\n",
      "     Avg CTR       0.17      0.01      0.01       166\n",
      "    High CTR       0.56      0.26      0.35       418\n",
      "     Low CTR       0.64      0.94      0.76       824\n",
      "\n",
      "    accuracy                           0.63      1408\n",
      "   macro avg       0.46      0.40      0.37      1408\n",
      "weighted avg       0.56      0.63      0.55      1408\n",
      "\n",
      "\n",
      "---------------\n",
      "\n",
      "Training Accuracy: 0.7337263263514361\n",
      "Testing Accuracy: 0.6264204545454546\n",
      "\n",
      "---------------\n",
      "\n"
     ]
    },
    {
     "data": {
      "image/png": "[encoded data removed]",
      "text/plain": [
       "<Figure size 432x288 with 2 Axes>"
      ]
     },
     "metadata": {
      "needs_background": "light"
     },
     "output_type": "display_data"
    },
    {
     "name": "stdout",
     "output_type": "stream",
     "text": [
      "Correctly classified videos from test set: 882, 62.64%\n",
      "Incorrectly classified videos from test set: 526, 37.36%\n"
     ]
    }
   ],
   "source": [
    "evaluate_model(svm_pipeline, X_test, y_test, X_train)"
   ]
  },
  {
   "cell_type": "code",
   "execution_count": 10,
   "metadata": {},
   "outputs": [
    {
     "data": {
      "text/plain": [
       "Pipeline(steps=[('vectorizer', CountVectorizer(decode_error='ignore')),\n",
       "                ('clf', LinearSVC())])"
      ]
     },
     "execution_count": 10,
     "metadata": {},
     "output_type": "execute_result"
    }
   ],
   "source": [
    "svc_pipeline = Pipeline(steps=[(\"vectorizer\", CountVectorizer(decode_error= 'ignore')),\n",
    "                               (\"clf\", LinearSVC())\n",
    "                              ])\n",
    "\n",
    "svc_pipeline.fit(X_train, y_train)"
   ]
  },
  {
   "cell_type": "code",
   "execution_count": 11,
   "metadata": {},
   "outputs": [
    {
     "name": "stdout",
     "output_type": "stream",
     "text": [
      "Classification Report: \n",
      "\n",
      "              precision    recall  f1-score   support\n",
      "\n",
      "     Avg CTR       0.12      0.05      0.08       166\n",
      "    High CTR       0.45      0.37      0.41       418\n",
      "     Low CTR       0.66      0.79      0.72       824\n",
      "\n",
      "    accuracy                           0.58      1408\n",
      "   macro avg       0.41      0.40      0.40      1408\n",
      "weighted avg       0.53      0.58      0.55      1408\n",
      "\n",
      "\n",
      "---------------\n",
      "\n",
      "Training Accuracy: 0.7974413646055437\n",
      "Testing Accuracy: 0.5788352272727273\n",
      "\n",
      "---------------\n",
      "\n"
     ]
    },
    {
     "data": {
      "image/png": "[encoded data removed]",
      "text/plain": [
       "<Figure size 432x288 with 2 Axes>"
      ]
     },
     "metadata": {
      "needs_background": "light"
     },
     "output_type": "display_data"
    },
    {
     "name": "stdout",
     "output_type": "stream",
     "text": [
      "Correctly classified videos from test set: 815, 57.88%\n",
      "Incorrectly classified videos from test set: 593, 42.12%\n"
     ]
    }
   ],
   "source": [
    "evaluate_model(svc_pipeline, X_test, y_test, X_train)"
   ]
  },
  {
   "cell_type": "code",
   "execution_count": 12,
   "metadata": {},
   "outputs": [
    {
     "data": {
      "text/plain": [
       "Pipeline(steps=[('vectorizer', CountVectorizer(decode_error='ignore')),\n",
       "                ('clf', SGDClassifier())])"
      ]
     },
     "execution_count": 12,
     "metadata": {},
     "output_type": "execute_result"
    }
   ],
   "source": [
    "sgdc_pipeline = Pipeline(steps=[(\"vectorizer\", CountVectorizer(decode_error= 'ignore')),\n",
    "                               (\"clf\", SGDClassifier())\n",
    "                              ])\n",
    "\n",
    "sgdc_pipeline.fit(X_train, y_train)"
   ]
  },
  {
   "cell_type": "code",
   "execution_count": 13,
   "metadata": {},
   "outputs": [
    {
     "name": "stdout",
     "output_type": "stream",
     "text": [
      "Classification Report: \n",
      "\n",
      "              precision    recall  f1-score   support\n",
      "\n",
      "     Avg CTR       0.14      0.04      0.06       166\n",
      "    High CTR       0.46      0.34      0.39       418\n",
      "     Low CTR       0.66      0.84      0.74       824\n",
      "\n",
      "    accuracy                           0.60      1408\n",
      "   macro avg       0.42      0.41      0.40      1408\n",
      "weighted avg       0.54      0.60      0.56      1408\n",
      "\n",
      "\n",
      "---------------\n",
      "\n",
      "Training Accuracy: 0.7749905932522263\n",
      "Testing Accuracy: 0.5965909090909091\n",
      "\n",
      "---------------\n",
      "\n"
     ]
    },
    {
     "data": {
      "image/png": "[encoded data removed]",
      "text/plain": [
       "<Figure size 432x288 with 2 Axes>"
      ]
     },
     "metadata": {
      "needs_background": "light"
     },
     "output_type": "display_data"
    },
    {
     "name": "stdout",
     "output_type": "stream",
     "text": [
      "Correctly classified videos from test set: 840, 59.66%\n",
      "Incorrectly classified videos from test set: 568, 40.34%\n"
     ]
    }
   ],
   "source": [
    "evaluate_model(sgdc_pipeline, X_test, y_test, X_train)"
   ]
  },
  {
   "cell_type": "markdown",
   "metadata": {},
   "source": [
    "### Naive Bayes"
   ]
  },
  {
   "cell_type": "code",
   "execution_count": 14,
   "metadata": {},
   "outputs": [
    {
     "data": {
      "text/plain": [
       "Pipeline(steps=[('vectorizer', CountVectorizer(decode_error='ignore')),\n",
       "                ('nb', MultinomialNB(alpha=0.5))])"
      ]
     },
     "execution_count": 14,
     "metadata": {},
     "output_type": "execute_result"
    }
   ],
   "source": [
    "nb_pipeline = Pipeline(steps=[(\"vectorizer\", CountVectorizer(decode_error= 'ignore')),\n",
    "                              (\"nb\", MultinomialNB(alpha=0.5))])\n",
    "\n",
    "nb_pipeline.fit(X_train, y_train)"
   ]
  },
  {
   "cell_type": "code",
   "execution_count": 15,
   "metadata": {},
   "outputs": [
    {
     "name": "stdout",
     "output_type": "stream",
     "text": [
      "Classification Report: \n",
      "\n",
      "              precision    recall  f1-score   support\n",
      "\n",
      "     Avg CTR       0.11      0.04      0.06       166\n",
      "    High CTR       0.46      0.40      0.43       418\n",
      "     Low CTR       0.66      0.79      0.72       824\n",
      "\n",
      "    accuracy                           0.59      1408\n",
      "   macro avg       0.41      0.41      0.40      1408\n",
      "weighted avg       0.54      0.59      0.56      1408\n",
      "\n",
      "\n",
      "---------------\n",
      "\n",
      "Training Accuracy: 0.7215602658974037\n",
      "Testing Accuracy: 0.5852272727272727\n",
      "\n",
      "---------------\n",
      "\n"
     ]
    },
    {
     "data": {
      "image/png": "[encoded data removed]",
      "text/plain": [
       "<Figure size 432x288 with 2 Axes>"
      ]
     },
     "metadata": {
      "needs_background": "light"
     },
     "output_type": "display_data"
    },
    {
     "name": "stdout",
     "output_type": "stream",
     "text": [
      "Correctly classified videos from test set: 824, 58.52%\n",
      "Incorrectly classified videos from test set: 584, 41.48%\n"
     ]
    }
   ],
   "source": [
    "evaluate_model(nb_pipeline, X_test, y_test, X_train)"
   ]
  },
  {
   "cell_type": "markdown",
   "metadata": {},
   "source": [
    "### Random Forest"
   ]
  },
  {
   "cell_type": "code",
   "execution_count": 16,
   "metadata": {},
   "outputs": [
    {
     "data": {
      "text/plain": [
       "Pipeline(steps=[('vectorizer', CountVectorizer(decode_error='ignore')),\n",
       "                ('rf', RandomForestClassifier())])"
      ]
     },
     "execution_count": 16,
     "metadata": {},
     "output_type": "execute_result"
    }
   ],
   "source": [
    "rf_pipeline = Pipeline(steps=[(\"vectorizer\", CountVectorizer(decode_error= 'ignore')),\n",
    "                                (\"rf\", RandomForestClassifier())\n",
    "                                      ])\n",
    "\n",
    "rf_pipeline.fit(X_train, y_train)"
   ]
  },
  {
   "cell_type": "code",
   "execution_count": 17,
   "metadata": {},
   "outputs": [
    {
     "name": "stdout",
     "output_type": "stream",
     "text": [
      "Classification Report: \n",
      "\n",
      "              precision    recall  f1-score   support\n",
      "\n",
      "     Avg CTR       0.15      0.11      0.13       166\n",
      "    High CTR       0.47      0.38      0.42       418\n",
      "     Low CTR       0.67      0.78      0.72       824\n",
      "\n",
      "    accuracy                           0.58      1408\n",
      "   macro avg       0.43      0.42      0.42      1408\n",
      "weighted avg       0.55      0.58      0.56      1408\n",
      "\n",
      "\n",
      "---------------\n",
      "\n",
      "Training Accuracy: 0.9559764204189138\n",
      "Testing Accuracy: 0.5788352272727273\n",
      "\n",
      "---------------\n",
      "\n"
     ]
    },
    {
     "data": {
      "image/png": "[encoded data removed]",
      "text/plain": [
       "<Figure size 432x288 with 2 Axes>"
      ]
     },
     "metadata": {
      "needs_background": "light"
     },
     "output_type": "display_data"
    },
    {
     "name": "stdout",
     "output_type": "stream",
     "text": [
      "Correctly classified videos from test set: 815, 57.88%\n",
      "Incorrectly classified videos from test set: 593, 42.12%\n"
     ]
    }
   ],
   "source": [
    "evaluate_model(rf_pipeline, X_test, y_test, X_train)"
   ]
  },
  {
   "cell_type": "markdown",
   "metadata": {},
   "source": [
    "##### Evaluate Vanilla Models"
   ]
  },
  {
   "cell_type": "code",
   "execution_count": 18,
   "metadata": {},
   "outputs": [],
   "source": [
    "#Create lists with the model objects and model names for the comparison function\n",
    "\n",
    "vanilla_models = [svm_pipeline, svc_pipeline, sgdc_pipeline, nb_pipeline, rf_pipeline]\n",
    "\n",
    "names = ['SVM w/ CV', \"Linear SVC w/ CV\", 'SGDC w/ CV', 'Multinomial Bayes w/ CV', 'Random Forrest w/ CV']"
   ]
  },
  {
   "cell_type": "code",
   "execution_count": 19,
   "metadata": {},
   "outputs": [
    {
     "name": "stdout",
     "output_type": "stream",
     "text": [
      "Currently evaluating the SVM w/ CV model \n",
      "\n",
      "Currently evaluating the Linear SVC w/ CV model \n",
      "\n",
      "Currently evaluating the SGDC w/ CV model \n",
      "\n",
      "Currently evaluating the Multinomial Bayes w/ CV model \n",
      "\n",
      "Currently evaluating the Random Forrest w/ CV model \n",
      "\n"
     ]
    },
    {
     "data": {
      "text/html": [
       "<div>\n",
       "<style scoped>\n",
       "    .dataframe tbody tr th:only-of-type {\n",
       "        vertical-align: middle;\n",
       "    }\n",
       "\n",
       "    .dataframe tbody tr th {\n",
       "        vertical-align: top;\n",
       "    }\n",
       "\n",
       "    .dataframe thead th {\n",
       "        text-align: right;\n",
       "    }\n",
       "</style>\n",
       "<table border=\"1\" class=\"dataframe\">\n",
       "  <thead>\n",
       "    <tr style=\"text-align: right;\">\n",
       "      <th></th>\n",
       "      <th>Model</th>\n",
       "      <th>Accuracy (Train)</th>\n",
       "      <th>Accuracy (Test)</th>\n",
       "    </tr>\n",
       "  </thead>\n",
       "  <tbody>\n",
       "    <tr>\n",
       "      <th>0</th>\n",
       "      <td>SVM w/ CV</td>\n",
       "      <td>0.733726</td>\n",
       "      <td>0.626420</td>\n",
       "    </tr>\n",
       "    <tr>\n",
       "      <th>1</th>\n",
       "      <td>Linear SVC w/ CV</td>\n",
       "      <td>0.797441</td>\n",
       "      <td>0.578835</td>\n",
       "    </tr>\n",
       "    <tr>\n",
       "      <th>2</th>\n",
       "      <td>SGDC w/ CV</td>\n",
       "      <td>0.775492</td>\n",
       "      <td>0.590909</td>\n",
       "    </tr>\n",
       "    <tr>\n",
       "      <th>3</th>\n",
       "      <td>Multinomial Bayes w/ CV</td>\n",
       "      <td>0.721560</td>\n",
       "      <td>0.585227</td>\n",
       "    </tr>\n",
       "    <tr>\n",
       "      <th>4</th>\n",
       "      <td>Random Forrest w/ CV</td>\n",
       "      <td>0.955976</td>\n",
       "      <td>0.568892</td>\n",
       "    </tr>\n",
       "  </tbody>\n",
       "</table>\n",
       "</div>"
      ],
      "text/plain": [
       "                     Model  Accuracy (Train)  Accuracy (Test)\n",
       "0                SVM w/ CV          0.733726         0.626420\n",
       "1         Linear SVC w/ CV          0.797441         0.578835\n",
       "2               SGDC w/ CV          0.775492         0.590909\n",
       "3  Multinomial Bayes w/ CV          0.721560         0.585227\n",
       "4     Random Forrest w/ CV          0.955976         0.568892"
      ]
     },
     "execution_count": 19,
     "metadata": {},
     "output_type": "execute_result"
    }
   ],
   "source": [
    "compare_models(X_train, X_test, y_train, y_test, vanilla_models, names)"
   ]
  },
  {
   "cell_type": "markdown",
   "metadata": {},
   "source": [
    "### Vanilla Models with TF-IDF\n",
    "\n",
    "Next, I'll try the same models, only this time using the TF-IDF vectorizer. I have a feeling it will perform better. "
   ]
  },
  {
   "cell_type": "code",
   "execution_count": 20,
   "metadata": {},
   "outputs": [
    {
     "data": {
      "text/plain": [
       "Pipeline(steps=[('vectorizer', TfidfVectorizer(decode_error='ignore')),\n",
       "                ('clf', SGDClassifier(random_state=293))])"
      ]
     },
     "execution_count": 20,
     "metadata": {},
     "output_type": "execute_result"
    }
   ],
   "source": [
    "#SVM\n",
    "svm_tf_pipeline = Pipeline(steps=[(\"vectorizer\", TfidfVectorizer(decode_error='ignore')),\n",
    "                               (\"clf\", SVC(random_state=seed))\n",
    "                              ])\n",
    "\n",
    "svm_tf_pipeline.fit(X_train, y_train)\n",
    "\n",
    "#SVC\n",
    "svc_tf_pipeline = Pipeline(steps=[(\"vectorizer\", TfidfVectorizer(decode_error='ignore')),\n",
    "                               (\"clf\", LinearSVC(random_state=seed))\n",
    "                              ])\n",
    "\n",
    "svc_tf_pipeline.fit(X_train, y_train)\n",
    "\n",
    "#SGDC\n",
    "sgdc_tf_pipeline = Pipeline(steps=[(\"vectorizer\", TfidfVectorizer(decode_error='ignore')),\n",
    "                               (\"clf\", SGDClassifier(random_state=seed))\n",
    "                              ])\n",
    "\n",
    "sgdc_tf_pipeline.fit(X_train, y_train)"
   ]
  },
  {
   "cell_type": "code",
   "execution_count": 21,
   "metadata": {},
   "outputs": [
    {
     "data": {
      "text/plain": [
       "Pipeline(steps=[('vectorizer', TfidfVectorizer(decode_error='ignore')),\n",
       "                ('nb', MultinomialNB())])"
      ]
     },
     "execution_count": 21,
     "metadata": {},
     "output_type": "execute_result"
    }
   ],
   "source": [
    "#Naive Bayes\n",
    "nb_tf_pipeline = Pipeline(steps=[(\"vectorizer\", TfidfVectorizer(decode_error='ignore')),\n",
    "                              (\"nb\", MultinomialNB())])\n",
    "\n",
    "nb_tf_pipeline.fit(X_train, y_train)"
   ]
  },
  {
   "cell_type": "code",
   "execution_count": 22,
   "metadata": {},
   "outputs": [
    {
     "data": {
      "text/plain": [
       "Pipeline(steps=[('vectorizer', TfidfVectorizer(decode_error='ignore')),\n",
       "                ('rf', RandomForestClassifier())])"
      ]
     },
     "execution_count": 22,
     "metadata": {},
     "output_type": "execute_result"
    }
   ],
   "source": [
    "rf_tf_pipeline = Pipeline(steps=[(\"vectorizer\", TfidfVectorizer(decode_error='ignore')),\n",
    "                                (\"rf\", RandomForestClassifier())\n",
    "                                      ])\n",
    "\n",
    "rf_tf_pipeline.fit(X_train, y_train)"
   ]
  },
  {
   "cell_type": "code",
   "execution_count": 23,
   "metadata": {},
   "outputs": [],
   "source": [
    "#Create lists with the model objects and model names for the comparison function\n",
    "\n",
    "vanilla_models = [svm_pipeline, svm_tf_pipeline,\n",
    "                  svc_pipeline, svc_tf_pipeline,\n",
    "                  sgdc_pipeline, sgdc_tf_pipeline,\n",
    "                  nb_pipeline, nb_tf_pipeline,\n",
    "                  rf_pipeline, rf_tf_pipeline]\n",
    "\n",
    "names = ['SVM w/ CV', 'SVM w/ TF',\n",
    "         \"Linear SVC w/ CV\", \"Linear SVC w/ TF\",\n",
    "         'SGDC w/ CV', 'SGDC w/ TF',\n",
    "         'Multinomial Bayes w/ CV', 'Multinomial Bayes w/ TF',\n",
    "         'Random Forrest w/ CV', 'Random Forrest w/ TF']"
   ]
  },
  {
   "cell_type": "code",
   "execution_count": 46,
   "metadata": {},
   "outputs": [
    {
     "name": "stdout",
     "output_type": "stream",
     "text": [
      "Currently evaluating the SVM w/ CV model \n",
      "\n",
      "Currently evaluating the SVM w/ TF model \n",
      "\n",
      "Currently evaluating the Linear SVC w/ CV model \n",
      "\n",
      "Currently evaluating the Linear SVC w/ TF model \n",
      "\n",
      "Currently evaluating the SGDC w/ CV model \n",
      "\n",
      "Currently evaluating the SGDC w/ TF model \n",
      "\n",
      "Currently evaluating the Multinomial Bayes w/ CV model \n",
      "\n",
      "Currently evaluating the Multinomial Bayes w/ TF model \n",
      "\n",
      "Currently evaluating the Random Forrest w/ CV model \n",
      "\n",
      "Currently evaluating the Random Forrest w/ TF model \n",
      "\n"
     ]
    }
   ],
   "source": [
    "df_test = compare_models(X_train, X_test, y_train, y_test, vanilla_models, names)"
   ]
  },
  {
   "cell_type": "code",
   "execution_count": 50,
   "metadata": {},
   "outputs": [
    {
     "data": {
      "text/html": [
       "<style  type=\"text/css\" >\n",
       "    #T_9ed78958_7ab8_11eb_8ad9_dca9047b23d1row0_col0 {\n",
       "            background-color:  #001a29;\n",
       "            color:  #ff9999;\n",
       "        }    #T_9ed78958_7ab8_11eb_8ad9_dca9047b23d1row0_col1 {\n",
       "            background-color:  #001a29;\n",
       "            color:  #ff9999;\n",
       "        }    #T_9ed78958_7ab8_11eb_8ad9_dca9047b23d1row0_col2 {\n",
       "            background-color:  #001a29;\n",
       "            color:  #ff9999;\n",
       "        }    #T_9ed78958_7ab8_11eb_8ad9_dca9047b23d1row1_col0 {\n",
       "            background-color:  #001a29;\n",
       "            color:  #ff9999;\n",
       "        }    #T_9ed78958_7ab8_11eb_8ad9_dca9047b23d1row1_col1 {\n",
       "            background-color:  #001a29;\n",
       "            color:  #ff9999;\n",
       "        }    #T_9ed78958_7ab8_11eb_8ad9_dca9047b23d1row1_col2 {\n",
       "            background-color:  #001a29;\n",
       "            color:  #ff9999;\n",
       "        }    #T_9ed78958_7ab8_11eb_8ad9_dca9047b23d1row2_col0 {\n",
       "            background-color:  #001a29;\n",
       "            color:  #ff9999;\n",
       "        }    #T_9ed78958_7ab8_11eb_8ad9_dca9047b23d1row2_col1 {\n",
       "            background-color:  #001a29;\n",
       "            color:  #ff9999;\n",
       "        }    #T_9ed78958_7ab8_11eb_8ad9_dca9047b23d1row2_col2 {\n",
       "            background-color:  #001a29;\n",
       "            color:  #ff9999;\n",
       "        }    #T_9ed78958_7ab8_11eb_8ad9_dca9047b23d1row3_col0 {\n",
       "            background-color:  #001a29;\n",
       "            color:  #ff9999;\n",
       "        }    #T_9ed78958_7ab8_11eb_8ad9_dca9047b23d1row3_col1 {\n",
       "            background-color:  #001a29;\n",
       "            color:  #ff9999;\n",
       "        }    #T_9ed78958_7ab8_11eb_8ad9_dca9047b23d1row3_col2 {\n",
       "            background-color:  #001a29;\n",
       "            color:  #ff9999;\n",
       "        }    #T_9ed78958_7ab8_11eb_8ad9_dca9047b23d1row4_col0 {\n",
       "            background-color:  #001a29;\n",
       "            color:  #ff9999;\n",
       "        }    #T_9ed78958_7ab8_11eb_8ad9_dca9047b23d1row4_col1 {\n",
       "            background-color:  #001a29;\n",
       "            color:  #ff9999;\n",
       "        }    #T_9ed78958_7ab8_11eb_8ad9_dca9047b23d1row4_col2 {\n",
       "            background-color:  #001a29;\n",
       "            color:  #ff9999;\n",
       "        }    #T_9ed78958_7ab8_11eb_8ad9_dca9047b23d1row5_col0 {\n",
       "            background-color:  #001a29;\n",
       "            color:  #ff9999;\n",
       "        }    #T_9ed78958_7ab8_11eb_8ad9_dca9047b23d1row5_col1 {\n",
       "            background-color:  #001a29;\n",
       "            color:  #ff9999;\n",
       "        }    #T_9ed78958_7ab8_11eb_8ad9_dca9047b23d1row5_col2 {\n",
       "            background-color:  #001a29;\n",
       "            color:  #ff9999;\n",
       "        }    #T_9ed78958_7ab8_11eb_8ad9_dca9047b23d1row6_col0 {\n",
       "            background-color:  #001a29;\n",
       "            color:  #ff9999;\n",
       "        }    #T_9ed78958_7ab8_11eb_8ad9_dca9047b23d1row6_col1 {\n",
       "            background-color:  #001a29;\n",
       "            color:  #ff9999;\n",
       "        }    #T_9ed78958_7ab8_11eb_8ad9_dca9047b23d1row6_col2 {\n",
       "            background-color:  #001a29;\n",
       "            color:  #ff9999;\n",
       "        }    #T_9ed78958_7ab8_11eb_8ad9_dca9047b23d1row7_col0 {\n",
       "            background-color:  #001a29;\n",
       "            color:  #ff9999;\n",
       "        }    #T_9ed78958_7ab8_11eb_8ad9_dca9047b23d1row7_col1 {\n",
       "            background-color:  #001a29;\n",
       "            color:  #ff9999;\n",
       "        }    #T_9ed78958_7ab8_11eb_8ad9_dca9047b23d1row7_col2 {\n",
       "            background-color:  #001a29;\n",
       "            color:  #ff9999;\n",
       "        }    #T_9ed78958_7ab8_11eb_8ad9_dca9047b23d1row8_col0 {\n",
       "            background-color:  #001a29;\n",
       "            color:  #ff9999;\n",
       "        }    #T_9ed78958_7ab8_11eb_8ad9_dca9047b23d1row8_col1 {\n",
       "            background-color:  #001a29;\n",
       "            color:  #ff9999;\n",
       "        }    #T_9ed78958_7ab8_11eb_8ad9_dca9047b23d1row8_col2 {\n",
       "            background-color:  #001a29;\n",
       "            color:  #ff9999;\n",
       "        }    #T_9ed78958_7ab8_11eb_8ad9_dca9047b23d1row9_col0 {\n",
       "            background-color:  #001a29;\n",
       "            color:  #ff9999;\n",
       "        }    #T_9ed78958_7ab8_11eb_8ad9_dca9047b23d1row9_col1 {\n",
       "            background-color:  #001a29;\n",
       "            color:  #ff9999;\n",
       "        }    #T_9ed78958_7ab8_11eb_8ad9_dca9047b23d1row9_col2 {\n",
       "            background-color:  #001a29;\n",
       "            color:  #ff9999;\n",
       "        }</style><table id=\"T_9ed78958_7ab8_11eb_8ad9_dca9047b23d1\" ><thead>    <tr>        <th class=\"blank level0\" ></th>        <th class=\"col_heading level0 col0\" >Model</th>        <th class=\"col_heading level0 col1\" >Accuracy (Train)</th>        <th class=\"col_heading level0 col2\" >Accuracy (Test)</th>    </tr></thead><tbody>\n",
       "                <tr>\n",
       "                        <th id=\"T_9ed78958_7ab8_11eb_8ad9_dca9047b23d1level0_row0\" class=\"row_heading level0 row0\" >0</th>\n",
       "                        <td id=\"T_9ed78958_7ab8_11eb_8ad9_dca9047b23d1row0_col0\" class=\"data row0 col0\" >SVM w/ CV</td>\n",
       "                        <td id=\"T_9ed78958_7ab8_11eb_8ad9_dca9047b23d1row0_col1\" class=\"data row0 col1\" >0.733726</td>\n",
       "                        <td id=\"T_9ed78958_7ab8_11eb_8ad9_dca9047b23d1row0_col2\" class=\"data row0 col2\" >0.62642</td>\n",
       "            </tr>\n",
       "            <tr>\n",
       "                        <th id=\"T_9ed78958_7ab8_11eb_8ad9_dca9047b23d1level0_row1\" class=\"row_heading level0 row1\" >1</th>\n",
       "                        <td id=\"T_9ed78958_7ab8_11eb_8ad9_dca9047b23d1row1_col0\" class=\"data row1 col0\" >SVM w/ TF</td>\n",
       "                        <td id=\"T_9ed78958_7ab8_11eb_8ad9_dca9047b23d1row1_col1\" class=\"data row1 col1\" >0.782391</td>\n",
       "                        <td id=\"T_9ed78958_7ab8_11eb_8ad9_dca9047b23d1row1_col2\" class=\"data row1 col2\" >0.622869</td>\n",
       "            </tr>\n",
       "            <tr>\n",
       "                        <th id=\"T_9ed78958_7ab8_11eb_8ad9_dca9047b23d1level0_row2\" class=\"row_heading level0 row2\" >2</th>\n",
       "                        <td id=\"T_9ed78958_7ab8_11eb_8ad9_dca9047b23d1row2_col0\" class=\"data row2 col0\" >Linear SVC w/ CV</td>\n",
       "                        <td id=\"T_9ed78958_7ab8_11eb_8ad9_dca9047b23d1row2_col1\" class=\"data row2 col1\" >0.797441</td>\n",
       "                        <td id=\"T_9ed78958_7ab8_11eb_8ad9_dca9047b23d1row2_col2\" class=\"data row2 col2\" >0.578835</td>\n",
       "            </tr>\n",
       "            <tr>\n",
       "                        <th id=\"T_9ed78958_7ab8_11eb_8ad9_dca9047b23d1level0_row3\" class=\"row_heading level0 row3\" >3</th>\n",
       "                        <td id=\"T_9ed78958_7ab8_11eb_8ad9_dca9047b23d1row3_col0\" class=\"data row3 col0\" >Linear SVC w/ TF</td>\n",
       "                        <td id=\"T_9ed78958_7ab8_11eb_8ad9_dca9047b23d1row3_col1\" class=\"data row3 col1\" >0.781136</td>\n",
       "                        <td id=\"T_9ed78958_7ab8_11eb_8ad9_dca9047b23d1row3_col2\" class=\"data row3 col2\" >0.591619</td>\n",
       "            </tr>\n",
       "            <tr>\n",
       "                        <th id=\"T_9ed78958_7ab8_11eb_8ad9_dca9047b23d1level0_row4\" class=\"row_heading level0 row4\" >4</th>\n",
       "                        <td id=\"T_9ed78958_7ab8_11eb_8ad9_dca9047b23d1row4_col0\" class=\"data row4 col0\" >SGDC w/ CV</td>\n",
       "                        <td id=\"T_9ed78958_7ab8_11eb_8ad9_dca9047b23d1row4_col1\" class=\"data row4 col1\" >0.771855</td>\n",
       "                        <td id=\"T_9ed78958_7ab8_11eb_8ad9_dca9047b23d1row4_col2\" class=\"data row4 col2\" >0.590909</td>\n",
       "            </tr>\n",
       "            <tr>\n",
       "                        <th id=\"T_9ed78958_7ab8_11eb_8ad9_dca9047b23d1level0_row5\" class=\"row_heading level0 row5\" >5</th>\n",
       "                        <td id=\"T_9ed78958_7ab8_11eb_8ad9_dca9047b23d1row5_col0\" class=\"data row5 col0\" >SGDC w/ TF</td>\n",
       "                        <td id=\"T_9ed78958_7ab8_11eb_8ad9_dca9047b23d1row5_col1\" class=\"data row5 col1\" >0.738743</td>\n",
       "                        <td id=\"T_9ed78958_7ab8_11eb_8ad9_dca9047b23d1row5_col2\" class=\"data row5 col2\" >0.612926</td>\n",
       "            </tr>\n",
       "            <tr>\n",
       "                        <th id=\"T_9ed78958_7ab8_11eb_8ad9_dca9047b23d1level0_row6\" class=\"row_heading level0 row6\" >6</th>\n",
       "                        <td id=\"T_9ed78958_7ab8_11eb_8ad9_dca9047b23d1row6_col0\" class=\"data row6 col0\" >Multinomial Bayes w/ CV</td>\n",
       "                        <td id=\"T_9ed78958_7ab8_11eb_8ad9_dca9047b23d1row6_col1\" class=\"data row6 col1\" >0.72156</td>\n",
       "                        <td id=\"T_9ed78958_7ab8_11eb_8ad9_dca9047b23d1row6_col2\" class=\"data row6 col2\" >0.585227</td>\n",
       "            </tr>\n",
       "            <tr>\n",
       "                        <th id=\"T_9ed78958_7ab8_11eb_8ad9_dca9047b23d1level0_row7\" class=\"row_heading level0 row7\" >7</th>\n",
       "                        <td id=\"T_9ed78958_7ab8_11eb_8ad9_dca9047b23d1row7_col0\" class=\"data row7 col0\" >Multinomial Bayes w/ TF</td>\n",
       "                        <td id=\"T_9ed78958_7ab8_11eb_8ad9_dca9047b23d1row7_col1\" class=\"data row7 col1\" >0.683306</td>\n",
       "                        <td id=\"T_9ed78958_7ab8_11eb_8ad9_dca9047b23d1row7_col2\" class=\"data row7 col2\" >0.619318</td>\n",
       "            </tr>\n",
       "            <tr>\n",
       "                        <th id=\"T_9ed78958_7ab8_11eb_8ad9_dca9047b23d1level0_row8\" class=\"row_heading level0 row8\" >8</th>\n",
       "                        <td id=\"T_9ed78958_7ab8_11eb_8ad9_dca9047b23d1row8_col0\" class=\"data row8 col0\" >Random Forrest w/ CV</td>\n",
       "                        <td id=\"T_9ed78958_7ab8_11eb_8ad9_dca9047b23d1row8_col1\" class=\"data row8 col1\" >0.955976</td>\n",
       "                        <td id=\"T_9ed78958_7ab8_11eb_8ad9_dca9047b23d1row8_col2\" class=\"data row8 col2\" >0.566761</td>\n",
       "            </tr>\n",
       "            <tr>\n",
       "                        <th id=\"T_9ed78958_7ab8_11eb_8ad9_dca9047b23d1level0_row9\" class=\"row_heading level0 row9\" >9</th>\n",
       "                        <td id=\"T_9ed78958_7ab8_11eb_8ad9_dca9047b23d1row9_col0\" class=\"data row9 col0\" >Random Forrest w/ TF</td>\n",
       "                        <td id=\"T_9ed78958_7ab8_11eb_8ad9_dca9047b23d1row9_col1\" class=\"data row9 col1\" >0.955976</td>\n",
       "                        <td id=\"T_9ed78958_7ab8_11eb_8ad9_dca9047b23d1row9_col2\" class=\"data row9 col2\" >0.585938</td>\n",
       "            </tr>\n",
       "    </tbody></table>"
      ],
      "text/plain": [
       "<pandas.io.formats.style.Styler at 0x7fd0ccf9a2b0>"
      ]
     },
     "execution_count": 50,
     "metadata": {},
     "output_type": "execute_result"
    }
   ],
   "source": [
    "enmax_palette = [\"#ff9999\", \"#001a29\"]\n",
    "color_codes_wanted = ['background', 'tactiq']\n",
    "c = lambda x: enmax_palette[color_codes_wanted.index(x)]\n",
    "\n",
    "df_test.style.set_properties(**{'background-color': c('tactiq'), \n",
    "                           'color': c('background')})"
   ]
  },
  {
   "cell_type": "markdown",
   "metadata": {},
   "source": [
    "#### Conclusion:\n",
    "\n",
    "Move forward with SVM, SGDC, and Multinomial Bayes. Always use TF as the vectorizer, gives higher accuracy score on test set in almost all cases."
   ]
  },
  {
   "cell_type": "code",
   "execution_count": 40,
   "metadata": {},
   "outputs": [
    {
     "name": "stdout",
     "output_type": "stream",
     "text": [
      "Currently evaluating the SVM (Vanilla) model \n",
      "\n",
      "Currently evaluating the SGDC (Vanilla) model \n",
      "\n",
      "Currently evaluating the Multinomial Bayes (Vanilla) model \n",
      "\n"
     ]
    }
   ],
   "source": [
    "sum_models = [svm_tf_pipeline, sgdc_tf_pipeline, nb_tf_pipeline]\n",
    "\n",
    "sum_names = ['SVM (Vanilla)', 'SGDC (Vanilla)', \"Multinomial Bayes (Vanilla)\"]\n",
    "\n",
    "#Compare the three models:\n",
    "\n",
    "top_models = compare_models(X_train, X_test, y_train, y_test, sum_models, sum_names)"
   ]
  },
  {
   "cell_type": "code",
   "execution_count": 41,
   "metadata": {},
   "outputs": [
    {
     "data": {
      "text/html": [
       "<div>\n",
       "<style scoped>\n",
       "    .dataframe tbody tr th:only-of-type {\n",
       "        vertical-align: middle;\n",
       "    }\n",
       "\n",
       "    .dataframe tbody tr th {\n",
       "        vertical-align: top;\n",
       "    }\n",
       "\n",
       "    .dataframe thead th {\n",
       "        text-align: right;\n",
       "    }\n",
       "</style>\n",
       "<table border=\"1\" class=\"dataframe\">\n",
       "  <thead>\n",
       "    <tr style=\"text-align: right;\">\n",
       "      <th></th>\n",
       "      <th>Model</th>\n",
       "      <th>Accuracy (Train)</th>\n",
       "      <th>Accuracy (Test)</th>\n",
       "    </tr>\n",
       "  </thead>\n",
       "  <tbody>\n",
       "    <tr>\n",
       "      <th>0</th>\n",
       "      <td>SVM (Vanilla)</td>\n",
       "      <td>0.782391</td>\n",
       "      <td>0.622869</td>\n",
       "    </tr>\n",
       "    <tr>\n",
       "      <th>1</th>\n",
       "      <td>SGDC (Vanilla)</td>\n",
       "      <td>0.738743</td>\n",
       "      <td>0.612926</td>\n",
       "    </tr>\n",
       "    <tr>\n",
       "      <th>2</th>\n",
       "      <td>Multinomial Bayes (Vanilla)</td>\n",
       "      <td>0.683306</td>\n",
       "      <td>0.619318</td>\n",
       "    </tr>\n",
       "  </tbody>\n",
       "</table>\n",
       "</div>"
      ],
      "text/plain": [
       "                         Model  Accuracy (Train)  Accuracy (Test)\n",
       "0                SVM (Vanilla)          0.782391         0.622869\n",
       "1               SGDC (Vanilla)          0.738743         0.612926\n",
       "2  Multinomial Bayes (Vanilla)          0.683306         0.619318"
      ]
     },
     "metadata": {},
     "output_type": "display_data"
    }
   ],
   "source": [
    "display(top_models)\n",
    "\n",
    "top_models.to_csv('baseline_models.csv', index=False)"
   ]
  }
 ],
 "metadata": {
  "kernelspec": {
   "display_name": "learn-env",
   "language": "python",
   "name": "learn-env"
  },
  "language_info": {
   "codemirror_mode": {
    "name": "ipython",
    "version": 3
   },
   "file_extension": ".py",
   "mimetype": "text/x-python",
   "name": "python",
   "nbconvert_exporter": "python",
   "pygments_lexer": "ipython3",
   "version": "3.6.9"
  }
 },
 "nbformat": 4,
 "nbformat_minor": 4
}
