{
 "cells": [
  {
   "cell_type": "markdown",
   "metadata": {},
   "source": [
    "## Regression Models"
   ]
  },
  {
   "cell_type": "markdown",
   "metadata": {},
   "source": [
    "Since my goal is to predict a video CTR based on its title, I want to explore to what extent I can achieve an exact CTR prediction instead of categorizing the CTR on a scale from low to high. To accomplish this, I will train a vanilla Random Forest Regressor with the data I used to train my vanilla classifier models (using TF-IDF):"
   ]
  },
  {
   "cell_type": "code",
   "execution_count": 1,
   "metadata": {},
   "outputs": [],
   "source": [
    "#Import libraries   \n",
    "\n",
    "import pandas as pd\n",
    "import numpy as np\n",
    "\n",
    "import seaborn as sns\n",
    "import matplotlib.pyplot as plt\n",
    "\n",
    "import nltk\n",
    "import nltk.corpus\n",
    "from nltk.tokenize import RegexpTokenizer\n",
    "from nltk.corpus import stopwords\n",
    "from nltk.stem import WordNetLemmatizer\n",
    "from nltk.tokenize import word_tokenize\n",
    "import string\n",
    "import os\n",
    "import regex as re\n",
    "\n",
    "\n",
    "from sklearn import preprocessing\n",
    "from sklearn.feature_extraction.text import TfidfVectorizer, CountVectorizer\n",
    "from sklearn.model_selection import train_test_split, cross_val_score, GridSearchCV\n",
    "from sklearn.metrics import r2_score, mean_squared_error, accuracy_score, f1_score\n",
    "from sklearn.ensemble import RandomForestRegressor\n",
    "from sklearn.linear_model import LogisticRegression\n",
    "from sklearn.decomposition import PCA\n",
    "from sklearn.pipeline import Pipeline\n",
    "\n",
    "import gensim\n",
    "import gensim.downloader as api\n",
    "from gensim.models import Doc2Vec, Word2Vec, KeyedVectors\n",
    "from gensim.models.doc2vec import TaggedDocument\n",
    "from gensim.test.utils import datapath\n",
    "import xgboost as xgb\n",
    "\n",
    "from adjustText import adjust_text\n",
    "\n",
    "from tqdm import tqdm\n",
    "tqdm.pandas(desc=\"progress-bar\")\n",
    "\n",
    "from capstone_functions import evaluate_model, compare_models, preprocess_title\n",
    "\n",
    "import warnings\n",
    "warnings.filterwarnings(\"ignore\")\n",
    "\n",
    "seed=293"
   ]
  },
  {
   "cell_type": "code",
   "execution_count": 2,
   "metadata": {},
   "outputs": [],
   "source": [
    "#Import pre-processed DataFrames\n",
    "df = pd.read_csv('final.csv')\n",
    "df2 = df.copy()"
   ]
  },
  {
   "cell_type": "code",
   "execution_count": 3,
   "metadata": {},
   "outputs": [],
   "source": [
    "#Slice the DataFrame using just features and target\n",
    "df2 = pd.read_csv('data/finalized/main_dataset.csv')\n",
    "df2 = df2[['video_title','ctr']]"
   ]
  },
  {
   "cell_type": "code",
   "execution_count": 4,
   "metadata": {},
   "outputs": [],
   "source": [
    "#Pre-process the titles as I did in my EDA notebook, but skip tokenization\n",
    "df2.video_title = df2.video_title.apply(lambda x: preprocess_title(x, tokenize=False))"
   ]
  },
  {
   "cell_type": "code",
   "execution_count": 5,
   "metadata": {},
   "outputs": [],
   "source": [
    "#Create a pipeline with the vectorizer and the Random Forest Regressor\n",
    "regr_pipeline = Pipeline(steps=[(\"ttf-idf\", TfidfVectorizer(decode_error='ignore'\n",
    "                                             )),\n",
    "                  (\"model\", RandomForestRegressor(n_estimators=10))\n",
    "                ])"
   ]
  },
  {
   "cell_type": "code",
   "execution_count": 6,
   "metadata": {},
   "outputs": [],
   "source": [
    "# Split data into training and test sets\n",
    "X = df2['video_title']\n",
    "y = df2['ctr']\n",
    "\n",
    "X_train, X_test, y_train, y_test = train_test_split(X, y, test_size=0.15, random_state=seed)\n"
   ]
  },
  {
   "cell_type": "code",
   "execution_count": 7,
   "metadata": {},
   "outputs": [
    {
     "data": {
      "text/plain": [
       "Pipeline(steps=[('ttf-idf', TfidfVectorizer(decode_error='ignore')),\n",
       "                ('model', RandomForestRegressor(n_estimators=10))])"
      ]
     },
     "execution_count": 7,
     "metadata": {},
     "output_type": "execute_result"
    }
   ],
   "source": [
    "#Fit the trainig data\n",
    "regr_pipeline.fit(X_train, y_train)"
   ]
  },
  {
   "cell_type": "code",
   "execution_count": 8,
   "metadata": {},
   "outputs": [],
   "source": [
    "#Get predictions\n",
    "y_pred = regr_pipeline.predict(X_test)"
   ]
  },
  {
   "cell_type": "code",
   "execution_count": 9,
   "metadata": {},
   "outputs": [
    {
     "data": {
      "text/plain": [
       "array([2.764     , 7.196     , 6.626     , ..., 3.833     , 1.669     ,\n",
       "       7.45266667])"
      ]
     },
     "execution_count": 9,
     "metadata": {},
     "output_type": "execute_result"
    }
   ],
   "source": [
    "y_pred"
   ]
  },
  {
   "cell_type": "code",
   "execution_count": 10,
   "metadata": {},
   "outputs": [
    {
     "data": {
      "text/plain": [
       "3.512438488905239"
      ]
     },
     "execution_count": 10,
     "metadata": {},
     "output_type": "execute_result"
    }
   ],
   "source": [
    "#Calculate the RMSE \n",
    "mse = mean_squared_error(y_test,y_pred)\n",
    "\n",
    "rmse = np.sqrt(mse)\n",
    "rmse"
   ]
  },
  {
   "cell_type": "markdown",
   "metadata": {},
   "source": [
    "This model can predict the exact CTR with a margin of error of about 3.5%. This is about twice the std in CTR we saw across all channels. Doesn't seem precise enough. Let's see if I can do better."
   ]
  },
  {
   "cell_type": "markdown",
   "metadata": {},
   "source": [
    "# Word2Vec\n",
    "\n",
    "I want to explore another NLP technique, representing words with vectors. In addition, I'm curious to see if representing entire titles with their own vectors will improve my models' performance."
   ]
  },
  {
   "cell_type": "code",
   "execution_count": 11,
   "metadata": {},
   "outputs": [],
   "source": [
    "#Let's reload the data and reassign CTR range categories, this time based on smaller brackets\n",
    "df = pd.read_csv('data/finalized/main_dataset.csv')\n",
    "df.head(3)\n",
    "\n",
    "def ctr_range(df):\n",
    "    if df['ctr'] < 1.00:\n",
    "        return 'Under 1%'\n",
    "    elif 1.00 < df['ctr'] < 3.00:\n",
    "        return 'Between 2-3%'\n",
    "    elif 3.00 < df['ctr'] < 5.00:\n",
    "        return 'Between 3-5%'\n",
    "    elif 5.00 < df['ctr'] < 8.00:\n",
    "        return 'Between 5-8%'\n",
    "    elif df['ctr'] > 8:\n",
    "        return 'Over 8%'\n",
    "    else:\n",
    "        return 'Undefined'\n",
    "\n",
    "#Add the class to each video in the DataFrame\n",
    "df['ctr_range'] = df.apply(ctr_range, axis=1)"
   ]
  },
  {
   "cell_type": "code",
   "execution_count": 12,
   "metadata": {},
   "outputs": [
    {
     "data": {
      "text/html": [
       "<div>\n",
       "<style scoped>\n",
       "    .dataframe tbody tr th:only-of-type {\n",
       "        vertical-align: middle;\n",
       "    }\n",
       "\n",
       "    .dataframe tbody tr th {\n",
       "        vertical-align: top;\n",
       "    }\n",
       "\n",
       "    .dataframe thead th {\n",
       "        text-align: right;\n",
       "    }\n",
       "</style>\n",
       "<table border=\"1\" class=\"dataframe\">\n",
       "  <thead>\n",
       "    <tr style=\"text-align: right;\">\n",
       "      <th></th>\n",
       "      <th>video_title</th>\n",
       "      <th>ctr</th>\n",
       "      <th>ctr_range</th>\n",
       "    </tr>\n",
       "  </thead>\n",
       "  <tbody>\n",
       "    <tr>\n",
       "      <th>0</th>\n",
       "      <td>hitting on female cops</td>\n",
       "      <td>10.07</td>\n",
       "      <td>Over 8%</td>\n",
       "    </tr>\n",
       "    <tr>\n",
       "      <th>1</th>\n",
       "      <td>naked guy picking up girls</td>\n",
       "      <td>5.75</td>\n",
       "      <td>Between 5-8%</td>\n",
       "    </tr>\n",
       "    <tr>\n",
       "      <th>2</th>\n",
       "      <td>flirting with very nice american female office...</td>\n",
       "      <td>11.23</td>\n",
       "      <td>Over 8%</td>\n",
       "    </tr>\n",
       "  </tbody>\n",
       "</table>\n",
       "</div>"
      ],
      "text/plain": [
       "                                         video_title    ctr     ctr_range\n",
       "0                             hitting on female cops  10.07       Over 8%\n",
       "1                         naked guy picking up girls   5.75  Between 5-8%\n",
       "2  flirting with very nice american female office...  11.23       Over 8%"
      ]
     },
     "execution_count": 12,
     "metadata": {},
     "output_type": "execute_result"
    }
   ],
   "source": [
    "df = df[['video_title','ctr', 'ctr_range']]\n",
    "\n",
    "df.video_title = df.video_title.apply(preprocess_title)\n",
    "\n",
    "df.head(3)"
   ]
  },
  {
   "cell_type": "code",
   "execution_count": 13,
   "metadata": {},
   "outputs": [],
   "source": [
    "def tokenize_text(text):\n",
    "    \"\"\"\n",
    "    Input: takes a string\n",
    "    \n",
    "    Output: a list of tokens using NLTK's tokenizer\n",
    "    \"\"\"\n",
    "    tokens = []\n",
    "    for sent in nltk.sent_tokenize(text):\n",
    "        for word in nltk.word_tokenize(sent):\n",
    "            if len(word) < 2:\n",
    "                continue\n",
    "            tokens.append(word.lower())\n",
    "    return tokens"
   ]
  },
  {
   "cell_type": "code",
   "execution_count": 14,
   "metadata": {},
   "outputs": [],
   "source": [
    "#Before I tokenize the titles, I'll do my train test split \n",
    "train, test = train_test_split(df, test_size=0.2, random_state=seed)"
   ]
  },
  {
   "cell_type": "code",
   "execution_count": 15,
   "metadata": {},
   "outputs": [],
   "source": [
    "#Now, let's tag every title with the appropriate CTR range\n",
    "train_tagged = train.apply(lambda r: TaggedDocument(words=tokenize_text(r['video_title']), tags=[r.ctr_range]), axis=1)\n",
    "test_tagged = test.apply(lambda r: TaggedDocument(words=tokenize_text(r['video_title']), tags=[r.ctr_range]), axis=1)"
   ]
  },
  {
   "cell_type": "code",
   "execution_count": 16,
   "metadata": {},
   "outputs": [
    {
     "name": "stderr",
     "output_type": "stream",
     "text": [
      "100%|██████████| 7528/7528 [00:00<00:00, 3240426.98it/s]\n"
     ]
    }
   ],
   "source": [
    "#Let's instantiate a doc2vec model, in this case in ignores words with frequency lower than 2\n",
    "model = Doc2Vec(dm=0, vector_size=300, negative=5, hs=0, min_count=2, sample = 0)\n",
    "\n",
    "model.build_vocab([x for x in tqdm(train_tagged.values)])"
   ]
  },
  {
   "cell_type": "markdown",
   "metadata": {},
   "source": [
    "Out of curiosity, I want to run a quick classifier with Logistic Regression and see if Word2Vec shows a noticeably higher accuracy."
   ]
  },
  {
   "cell_type": "code",
   "execution_count": 17,
   "metadata": {},
   "outputs": [],
   "source": [
    "def vec_for_learning(model, tagged_docs):\n",
    "    \"\"\"\n",
    "    This function prepares the data for the classfier.\n",
    "    \"\"\"\n",
    "    sents = tagged_docs.values\n",
    "    targets, features = zip(*[(doc.tags[0], model.infer_vector(doc.words, steps=20)) for doc in sents])\n",
    "    return targets, features"
   ]
  },
  {
   "cell_type": "code",
   "execution_count": 18,
   "metadata": {},
   "outputs": [
    {
     "name": "stdout",
     "output_type": "stream",
     "text": [
      "Testing accuracy 0.25292242295430395\n"
     ]
    }
   ],
   "source": [
    "#Assign the appropriate targets and features to the train and test sets\n",
    "y_train, X_train = vec_for_learning(model, train_tagged)\n",
    "y_test, X_test = vec_for_learning(model, test_tagged)\n",
    "\n",
    "#Fit the model and make predictions\n",
    "logreg = LogisticRegression()\n",
    "logreg.fit(X_train, y_train)\n",
    "y_pred = logreg.predict(X_test)\n",
    "\n",
    "print('Testing accuracy %s' % accuracy_score(y_test, y_pred))"
   ]
  },
  {
   "cell_type": "markdown",
   "metadata": {},
   "source": [
    "Okay, YIKES!\n",
    "\n",
    "Next, I'll map entire titles as vectors and proceed with my regression model improvements. \n",
    "\n",
    "To do so, I need preprocess the titles once again and keept them intact. To make this process a bit easier, I found and borrowed a few functions from GitHub user Dimitris Spathis, [credit goes to him!](https://github.com/sdimi/average-word2vec) "
   ]
  },
  {
   "cell_type": "code",
   "execution_count": 19,
   "metadata": {},
   "outputs": [],
   "source": [
    "def document_vector(word2vec_model, doc):\n",
    "    # remove out-of-vocabulary words\n",
    "    doc = [word for word in doc if word in model.vocab]\n",
    "    return np.mean(model[doc], axis=0)\n",
    "\n",
    "def preprocess(text):\n",
    "    text = text.lower()\n",
    "    doc = word_tokenize(text)\n",
    "    doc = [word for word in doc if word not in stop_words]\n",
    "    doc = [word for word in doc if word.isalpha()] \n",
    "    return doc\n",
    "\n",
    "# Function that will help us drop documents that have no word vectors in word2vec\n",
    "def has_vector_representation(word2vec_model, doc):\n",
    "    \"\"\"check if at least one word of the document is in the\n",
    "    word2vec dictionary\"\"\"\n",
    "    return not all(word not in word2vec_model.vocab for word in doc)\n",
    "\n",
    "# Filter out documents\n",
    "def filter_docs(corpus, texts, condition_on_doc):\n",
    "    \"\"\"\n",
    "    Filter corpus and texts given the function condition_on_doc which takes a doc.\n",
    "    The document doc is kept if condition_on_doc(doc) is true.\n",
    "    \"\"\"\n",
    "    number_of_docs = len(corpus)\n",
    "\n",
    "    if texts is not None:\n",
    "        texts = [text for (text, doc) in zip(texts, corpus)\n",
    "                 if condition_on_doc(doc)]\n",
    "\n",
    "    corpus = [doc for doc in corpus if condition_on_doc(doc)]\n",
    "\n",
    "    print(\"{} docs removed\".format(number_of_docs - len(corpus)))\n",
    "\n",
    "    return (corpus, texts)"
   ]
  },
  {
   "cell_type": "code",
   "execution_count": 20,
   "metadata": {},
   "outputs": [],
   "source": [
    "#One of the functions requires the stopwrods list \n",
    "stop_words = stopwords.words('english')"
   ]
  },
  {
   "cell_type": "code",
   "execution_count": 21,
   "metadata": {},
   "outputs": [],
   "source": [
    "#Let's prepare the corpus with all titles\n",
    "video_titles = df.video_title\n",
    "\n",
    "corpus = [preprocess(title) for title in video_titles]"
   ]
  },
  {
   "cell_type": "code",
   "execution_count": 22,
   "metadata": {},
   "outputs": [
    {
     "data": {
      "text/plain": [
       "[['hitting', 'female', 'cops'],\n",
       " ['naked', 'guy', 'picking', 'girls'],\n",
       " ['flirting', 'nice', 'american', 'female', 'officer', 'norwegian']]"
      ]
     },
     "execution_count": 22,
     "metadata": {},
     "output_type": "execute_result"
    }
   ],
   "source": [
    "#preview the result of the pre-processed titles\n",
    "corpus[:3]"
   ]
  },
  {
   "cell_type": "code",
   "execution_count": 23,
   "metadata": {},
   "outputs": [
    {
     "name": "stdout",
     "output_type": "stream",
     "text": [
      "5 docs removed\n"
     ]
    }
   ],
   "source": [
    "# Remove empty docs\n",
    "corpus, video_titles = filter_docs(corpus, video_titles, lambda doc: (len(doc) != 0))"
   ]
  },
  {
   "cell_type": "code",
   "execution_count": 24,
   "metadata": {},
   "outputs": [],
   "source": [
    "from gensim.models import KeyedVectors\n",
    "from gensim.test.utils import datapath\n",
    "\n",
    "#Let's load another word2vec model \n",
    "model = KeyedVectors.load_word2vec_format(datapath('word2vec_pre_kv_c'), binary=False)"
   ]
  },
  {
   "cell_type": "code",
   "execution_count": 25,
   "metadata": {},
   "outputs": [
    {
     "name": "stdout",
     "output_type": "stream",
     "text": [
      "2552 docs removed\n"
     ]
    }
   ],
   "source": [
    "# Remove docs that don't include any words in W2V's vocab\n",
    "corpus, video_titles = filter_docs(corpus, video_titles, lambda doc: has_vector_representation(model, doc))"
   ]
  },
  {
   "cell_type": "code",
   "execution_count": 26,
   "metadata": {},
   "outputs": [
    {
     "name": "stdout",
     "output_type": "stream",
     "text": [
      "0 docs removed\n"
     ]
    }
   ],
   "source": [
    "# Filter out any empty docs\n",
    "corpus, video_titles = filter_docs(corpus, video_titles, lambda doc: (len(doc) != 0))\n",
    "\n",
    "x = []\n",
    "for doc in corpus: # append the vector for each document\n",
    "    x.append(document_vector(model, doc))\n",
    "    \n",
    "X = np.array(x) # list to array"
   ]
  },
  {
   "cell_type": "code",
   "execution_count": 27,
   "metadata": {},
   "outputs": [],
   "source": [
    "#Let's import and use PCA for dimension reduction\n",
    "from sklearn.decomposition import PCA\n",
    "twodim =  PCA().fit_transform(X)[:,:2]"
   ]
  },
  {
   "cell_type": "code",
   "execution_count": 28,
   "metadata": {},
   "outputs": [],
   "source": [
    "# Adding ability to match presentation colors with graph colors\n",
    "enmax_palette = [\"#ff9999\", \"#001a29\"]\n",
    "color_codes_wanted = ['background', 'tactiq']\n",
    "\n",
    "c = lambda x: enmax_palette[color_codes_wanted.index(x)]"
   ]
  },
  {
   "cell_type": "code",
   "execution_count": 29,
   "metadata": {},
   "outputs": [
    {
     "data": {
      "image/png": "[encoded data removed]",
      "text/plain": [
       "<Figure size 1440x720 with 1 Axes>"
      ]
     },
     "metadata": {
      "needs_background": "light"
     },
     "output_type": "display_data"
    }
   ],
   "source": [
    "#Let's create a scatter plot where each dot represents a title, and explore their similarity\n",
    "\n",
    "sns.set_palette(sns.color_palette(enmax_palette))\n",
    "\n",
    "fig, ax = plt.subplots(figsize = (20, 10))\n",
    "sns.scatterplot(twodim[:, 0], twodim[:, 1], alpha = 0.3)\n",
    "\n",
    "from adjustText import adjust_text\n",
    "texts = []\n",
    "titles_to_plot = list(np.arange(0, 100, 20)) # plots every 40th title in first 400 titles\n",
    "\n",
    "# Append words to list\n",
    "for title in titles_to_plot:\n",
    "    texts.append(plt.text(twodim[title, 0], twodim[title, 1], video_titles[title], fontsize = 14))\n",
    "    \n",
    "# Plot text using adjust_text\n",
    "adjust_text(texts, force_points = 0.4, force_text = 0.4, \n",
    "            expand_points = (2,1), expand_text = (1,2),\n",
    "            arrowprops = dict(arrowstyle = \"-\", color = c('background'), lw = 0.7))\n",
    "\n",
    "plt.show()"
   ]
  },
  {
   "cell_type": "markdown",
   "metadata": {},
   "source": [
    "Seems like everything worked well. Similir titles appear close together."
   ]
  },
  {
   "cell_type": "code",
   "execution_count": 30,
   "metadata": {},
   "outputs": [],
   "source": [
    "#Let's merge the PCA representation of the vectors with the titles\n",
    "df_w_vectors = pd.DataFrame(twodim)\n",
    "\n",
    "df_w_vectors['video_title'] = video_titles\n",
    "\n",
    "# Use pd.concat to match original titles with their vectors\n",
    "main_w_vectors = pd.concat((df_w_vectors, df), axis=1)\n"
   ]
  },
  {
   "cell_type": "code",
   "execution_count": 32,
   "metadata": {},
   "outputs": [
    {
     "data": {
      "text/html": [
       "<div>\n",
       "<style scoped>\n",
       "    .dataframe tbody tr th:only-of-type {\n",
       "        vertical-align: middle;\n",
       "    }\n",
       "\n",
       "    .dataframe tbody tr th {\n",
       "        vertical-align: top;\n",
       "    }\n",
       "\n",
       "    .dataframe thead th {\n",
       "        text-align: right;\n",
       "    }\n",
       "</style>\n",
       "<table border=\"1\" class=\"dataframe\">\n",
       "  <thead>\n",
       "    <tr style=\"text-align: right;\">\n",
       "      <th></th>\n",
       "      <th>0</th>\n",
       "      <th>1</th>\n",
       "      <th>video_title</th>\n",
       "    </tr>\n",
       "  </thead>\n",
       "  <tbody>\n",
       "    <tr>\n",
       "      <th>0</th>\n",
       "      <td>-0.603611</td>\n",
       "      <td>0.000639</td>\n",
       "      <td>flirting with very nice american female office...</td>\n",
       "    </tr>\n",
       "    <tr>\n",
       "      <th>1</th>\n",
       "      <td>0.118238</td>\n",
       "      <td>0.034758</td>\n",
       "      <td>back at the carnival brazil trip</td>\n",
       "    </tr>\n",
       "    <tr>\n",
       "      <th>2</th>\n",
       "      <td>1.627639</td>\n",
       "      <td>0.026269</td>\n",
       "      <td>awkwardly asking girls out for valentine s day</td>\n",
       "    </tr>\n",
       "  </tbody>\n",
       "</table>\n",
       "</div>"
      ],
      "text/plain": [
       "          0         1                                        video_title\n",
       "0 -0.603611  0.000639  flirting with very nice american female office...\n",
       "1  0.118238  0.034758                  back at the carnival brazil trip \n",
       "2  1.627639  0.026269     awkwardly asking girls out for valentine s day"
      ]
     },
     "execution_count": 32,
     "metadata": {},
     "output_type": "execute_result"
    }
   ],
   "source": [
    "#Preview\n",
    "df_w_vectors.head(3)"
   ]
  },
  {
   "cell_type": "code",
   "execution_count": 33,
   "metadata": {},
   "outputs": [],
   "source": [
    "#Let's merge back into the main DataFrame\n",
    "main_df = df.merge(df_w_vectors, on=\"video_title\", how=\"left\")"
   ]
  },
  {
   "cell_type": "code",
   "execution_count": 34,
   "metadata": {},
   "outputs": [
    {
     "data": {
      "text/html": [
       "<div>\n",
       "<style scoped>\n",
       "    .dataframe tbody tr th:only-of-type {\n",
       "        vertical-align: middle;\n",
       "    }\n",
       "\n",
       "    .dataframe tbody tr th {\n",
       "        vertical-align: top;\n",
       "    }\n",
       "\n",
       "    .dataframe thead th {\n",
       "        text-align: right;\n",
       "    }\n",
       "</style>\n",
       "<table border=\"1\" class=\"dataframe\">\n",
       "  <thead>\n",
       "    <tr style=\"text-align: right;\">\n",
       "      <th></th>\n",
       "      <th>video_title</th>\n",
       "      <th>ctr</th>\n",
       "      <th>ctr_range</th>\n",
       "      <th>0</th>\n",
       "      <th>1</th>\n",
       "    </tr>\n",
       "  </thead>\n",
       "  <tbody>\n",
       "    <tr>\n",
       "      <th>0</th>\n",
       "      <td>hitting on female cops</td>\n",
       "      <td>10.07</td>\n",
       "      <td>Over 8%</td>\n",
       "      <td>NaN</td>\n",
       "      <td>NaN</td>\n",
       "    </tr>\n",
       "    <tr>\n",
       "      <th>1</th>\n",
       "      <td>naked guy picking up girls</td>\n",
       "      <td>5.75</td>\n",
       "      <td>Between 5-8%</td>\n",
       "      <td>NaN</td>\n",
       "      <td>NaN</td>\n",
       "    </tr>\n",
       "    <tr>\n",
       "      <th>2</th>\n",
       "      <td>flirting with very nice american female office...</td>\n",
       "      <td>11.23</td>\n",
       "      <td>Over 8%</td>\n",
       "      <td>-0.603611</td>\n",
       "      <td>0.000639</td>\n",
       "    </tr>\n",
       "    <tr>\n",
       "      <th>3</th>\n",
       "      <td>naked guy picking up girls in usa</td>\n",
       "      <td>4.68</td>\n",
       "      <td>Between 3-5%</td>\n",
       "      <td>NaN</td>\n",
       "      <td>NaN</td>\n",
       "    </tr>\n",
       "    <tr>\n",
       "      <th>4</th>\n",
       "      <td>edgard tries to sell me to this brazilian girl</td>\n",
       "      <td>3.86</td>\n",
       "      <td>Between 3-5%</td>\n",
       "      <td>NaN</td>\n",
       "      <td>NaN</td>\n",
       "    </tr>\n",
       "  </tbody>\n",
       "</table>\n",
       "</div>"
      ],
      "text/plain": [
       "                                         video_title    ctr     ctr_range  \\\n",
       "0                             hitting on female cops  10.07       Over 8%   \n",
       "1                         naked guy picking up girls   5.75  Between 5-8%   \n",
       "2  flirting with very nice american female office...  11.23       Over 8%   \n",
       "3                  naked guy picking up girls in usa   4.68  Between 3-5%   \n",
       "4     edgard tries to sell me to this brazilian girl   3.86  Between 3-5%   \n",
       "\n",
       "          0         1  \n",
       "0       NaN       NaN  \n",
       "1       NaN       NaN  \n",
       "2 -0.603611  0.000639  \n",
       "3       NaN       NaN  \n",
       "4       NaN       NaN  "
      ]
     },
     "execution_count": 34,
     "metadata": {},
     "output_type": "execute_result"
    }
   ],
   "source": [
    "#Preview\n",
    "main_df.head()"
   ]
  },
  {
   "cell_type": "code",
   "execution_count": 35,
   "metadata": {},
   "outputs": [],
   "source": [
    "#Some titles didn't have a vector representation and we duplicated when I merged the DataFrames, let's drop them\n",
    "main_df.dropna(inplace=True)"
   ]
  },
  {
   "cell_type": "code",
   "execution_count": 36,
   "metadata": {},
   "outputs": [],
   "source": [
    "#Let's reassign the features and the target variable\n",
    "X_2 = main_df.drop(columns=['ctr_range','ctr','video_title'])\n",
    "y_2 = main_df.ctr"
   ]
  },
  {
   "cell_type": "code",
   "execution_count": 37,
   "metadata": {},
   "outputs": [],
   "source": [
    "#Train test split\n",
    "X_train, X_test, y_train, y_test = train_test_split(X_2, y_2, test_size = 0.2, random_state = seed)"
   ]
  },
  {
   "cell_type": "markdown",
   "metadata": {},
   "source": [
    "Before I run the Random Forest Regressor again, I want to see if one of the most powerful algorithms will perform well with this newlt formatted titles - XGBoost."
   ]
  },
  {
   "cell_type": "code",
   "execution_count": 38,
   "metadata": {},
   "outputs": [
    {
     "name": "stdout",
     "output_type": "stream",
     "text": [
      "[21:31:14] WARNING: /usr/local/miniconda/conda-bld/xgboost_1572315027083/work/src/objective/regression_obj.cu:152: reg:linear is now deprecated in favor of reg:squarederror.\n"
     ]
    },
    {
     "data": {
      "text/plain": [
       "3.437732592020468"
      ]
     },
     "execution_count": 38,
     "metadata": {},
     "output_type": "execute_result"
    }
   ],
   "source": [
    "# Instantiate an XGBRegressor\n",
    "xgr = xgb.XGBRegressor(random_state=seed)\n",
    "\n",
    "# Fit the classifier to the training set\n",
    "xgr.fit(X_train, y_train)\n",
    "\n",
    "#Make Predictions\n",
    "y_pred = xgr.predict(X_test)\n",
    "\n",
    "#Measure \n",
    "mse2 = mean_squared_error(y_test, y_pred)\n",
    "rmse2 = np.sqrt(mse2)\n",
    "rmse2"
   ]
  },
  {
   "cell_type": "markdown",
   "metadata": {},
   "source": [
    "A slight improvement, from 3.512% on the vanilla Random Forrest to 3.43% on XGB.\n",
    "\n",
    "Let's run Random Forrest again on vectorized titles:"
   ]
  },
  {
   "cell_type": "code",
   "execution_count": 39,
   "metadata": {},
   "outputs": [],
   "source": [
    "rfrg = RandomForestRegressor()"
   ]
  },
  {
   "cell_type": "code",
   "execution_count": 40,
   "metadata": {},
   "outputs": [
    {
     "data": {
      "text/plain": [
       "RandomForestRegressor()"
      ]
     },
     "execution_count": 40,
     "metadata": {},
     "output_type": "execute_result"
    }
   ],
   "source": [
    "rfrg.fit(X_train, y_train)"
   ]
  },
  {
   "cell_type": "code",
   "execution_count": 41,
   "metadata": {},
   "outputs": [],
   "source": [
    "y_pred_2 = rfrg.predict(X_test)"
   ]
  },
  {
   "cell_type": "code",
   "execution_count": 42,
   "metadata": {},
   "outputs": [
    {
     "data": {
      "text/plain": [
       "3.5040227863379823"
      ]
     },
     "execution_count": 42,
     "metadata": {},
     "output_type": "execute_result"
    }
   ],
   "source": [
    "mse = mean_squared_error(y_test,y_pred_2)\n",
    "\n",
    "rmse = np.sqrt(mse)\n",
    "rmse"
   ]
  },
  {
   "cell_type": "markdown",
   "metadata": {},
   "source": [
    "A minimal improvement from 3.512% to 3.5%. Still, when it comes to exact prediction of the CTR, XGB is doing a better job. Neither is prceise enough, so let's go back to classifiers."
   ]
  }
 ],
 "metadata": {
  "kernelspec": {
   "display_name": "learn-env",
   "language": "python",
   "name": "learn-env"
  },
  "language_info": {
   "codemirror_mode": {
    "name": "ipython",
    "version": 3
   },
   "file_extension": ".py",
   "mimetype": "text/x-python",
   "name": "python",
   "nbconvert_exporter": "python",
   "pygments_lexer": "ipython3",
   "version": "3.6.9"
  }
 },
 "nbformat": 4,
 "nbformat_minor": 4
}
